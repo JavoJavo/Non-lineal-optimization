{
 "cells": [
  {
   "cell_type": "code",
   "execution_count": 1,
   "metadata": {},
   "outputs": [],
   "source": [
    "from math import atan \n",
    "from math import log\n",
    "#from math import radians as rad\n",
    "#from math import degrees as deg"
   ]
  },
  {
   "cell_type": "code",
   "execution_count": 2,
   "metadata": {},
   "outputs": [],
   "source": [
    "def f(x):\n",
    "    return 0.65 - 0.75/(1+x**2) - 0.65*x*atan(1/x) if x != 0\\\n",
    "    else 0.65 - 0.75/(1+x**2) # because I can't divide by zero"
   ]
  },
  {
   "cell_type": "code",
   "execution_count": 3,
   "metadata": {},
   "outputs": [
    {
     "data": {
      "text/plain": [
       "(-0.09999999999999998, -0.30982333328307937)"
      ]
     },
     "execution_count": 3,
     "metadata": {},
     "output_type": "execute_result"
    }
   ],
   "source": [
    "f(0),f(0.5)"
   ]
  },
  {
   "cell_type": "markdown",
   "metadata": {},
   "source": [
    "# 1."
   ]
  },
  {
   "cell_type": "markdown",
   "metadata": {},
   "source": [
    "## Exhaustive search"
   ]
  },
  {
   "cell_type": "code",
   "execution_count": 4,
   "metadata": {},
   "outputs": [],
   "source": [
    "class Exhaustive_search:\n",
    "    def __init__(self,a,b,n):\n",
    "        self.a,self.b,self.n = a,b,n\n",
    "        self.evalF = 0\n",
    "        \n",
    "    def F(self,x):\n",
    "        self.evalF += 1\n",
    "        return 0.65 - 0.75/(1+x**2) - 0.65*x*atan(1/x) if x != 0\\\n",
    "        else 0.65 - 0.75/(1+x**2) # because I can't divide by zero\n",
    "\n",
    "    def minimo(self):\n",
    "        a,b,n,F = self.a,self.b,self.n,self.F\n",
    "        if n == 0:\n",
    "            return ('({},{})\\n{}'.format(\"%.3f\"%a,\"%.3f\"%b,0))\n",
    "    \n",
    "        step = (b-a)/n\n",
    "\n",
    "\n",
    "        x1 = a\n",
    "        x2 = x1+step\n",
    "        x3 = x2+step\n",
    "        if x1 == 0:\n",
    "            x1 = x1+step\n",
    "            x2 = x1+step\n",
    "            x3 = x2+step\n",
    "            #evalF += 1\n",
    "        elif x2 == 0:\n",
    "            x1 = x1+step+step\n",
    "            x2 = x1+step\n",
    "            x3 = x2+step\n",
    "            #evalF += 2\n",
    "        elif x3 == 0:\n",
    "            x1 = x1+step+step+step\n",
    "            x2 = x1+step\n",
    "            x3 = x2+step\n",
    "            #evalF += 3\n",
    "            \n",
    "        f1,f2,f3 = F(x1), F(x2), F(x3)\n",
    "        while x3 <= b:\n",
    "            if f1 >= f2 and f2 <= f3:\n",
    "                return ('({},{})\\n{}'.format(\"%.3f\"%x1,\"%.3f\"%x3,self.evalF))#x3-x1\n",
    "            x1 = x2\n",
    "            x2 = x3\n",
    "            x3 = x3 + step\n",
    "            if x3 == 0:\n",
    "                x1 = x3+step\n",
    "                x2 = x1+step\n",
    "                x3 = x2+step\n",
    "            f1 = f2\n",
    "            f2 = f3\n",
    "            f3 = F(x3)\n",
    "        return('NO SE ENCONTRÓ')\n"
   ]
  },
  {
   "cell_type": "code",
   "execution_count": 5,
   "metadata": {},
   "outputs": [
    {
     "name": "stdout",
     "output_type": "stream",
     "text": [
      "(0.481,0.482)\n",
      "963\n"
     ]
    }
   ],
   "source": [
    "print(Exhaustive_search(0,3,6000).minimo())"
   ]
  },
  {
   "cell_type": "markdown",
   "metadata": {},
   "source": [
    "## Division of intervals by half"
   ]
  },
  {
   "cell_type": "code",
   "execution_count": 6,
   "metadata": {},
   "outputs": [],
   "source": [
    "class Division_by_half:\n",
    "    def __init__(self,a,b,epsilon):\n",
    "        self.a,self.b,self.epsilon = a,b,epsilon\n",
    "        self.evalF = 0\n",
    "        self.fs = {}\n",
    "    \n",
    "    def f(self,x):\n",
    "        self.evalF += 1\n",
    "        return 0.65 - 0.75/(1+x**2) - 0.65*x*atan(1/x) if x != 0\\\n",
    "        else 0.65 - 0.75/(1+x**2) # because I can't divide by zero\n",
    "    \n",
    "    def getf(self,x):\n",
    "        fs,f = self.fs, self.f\n",
    "        if x in fs.keys():\n",
    "            return fs[x]\n",
    "        else:\n",
    "            fs[x] = f(x)\n",
    "            return fs[x]\n",
    "\n",
    "    \n",
    "\n",
    "    def minimo(self):\n",
    "        a,b,epsilon,getf = self.a,self.b,self.epsilon,self.getf\n",
    "        x_m = (a+b)/2\n",
    "        L = abs(b-a)\n",
    "        while L > epsilon:\n",
    "            x1 = a + L/4\n",
    "            x2 = b - L/4\n",
    "            fx1 = getf(x1)\n",
    "            fx2 = getf(x2)\n",
    "            fxm = getf(x_m)\n",
    "\n",
    "            if fx1 < fxm:\n",
    "                b = x_m\n",
    "                x_m = x1\n",
    "\n",
    "            elif fx2 < fxm:\n",
    "                a = x_m\n",
    "                x_m = x2\n",
    "\n",
    "            else:\n",
    "                a = x1\n",
    "                b = x2\n",
    "\n",
    "            L = abs(b-a)\n",
    "\n",
    "        return ('({},{})\\n{}'.format(\"%.3f\"%a,\"%.3f\"%b,self.evalF))\n"
   ]
  },
  {
   "cell_type": "code",
   "execution_count": 7,
   "metadata": {},
   "outputs": [
    {
     "name": "stdout",
     "output_type": "stream",
     "text": [
      "(0.480,0.481)\n",
      "25\n"
     ]
    }
   ],
   "source": [
    "print(Division_by_half(0,3,0.001).minimo())"
   ]
  },
  {
   "cell_type": "markdown",
   "metadata": {},
   "source": [
    "## Fibonacci search"
   ]
  },
  {
   "cell_type": "code",
   "execution_count": 33,
   "metadata": {
    "scrolled": true
   },
   "outputs": [],
   "source": [
    "#a,b,n = input().split(',') \n",
    "#a,b,n = float(a), float(b), int(n)\n",
    "\n",
    "class Fibonacci_search:\n",
    "    def __init__(self,a,b,n):\n",
    "        self.a,self.b,self.n = a,b,n\n",
    "        self.evalF = 0\n",
    "        self.fibo_dict = {}\n",
    "        self.fs = {}\n",
    "        \n",
    "    def fibo_iter_dict(self,n):\n",
    "        self.fibo_dict[0] = 1\n",
    "        self.fibo_dict[1] = 1\n",
    "        if n == 0 or n == 1:\n",
    "            return self.fibo_dict\n",
    "        f0 = 1\n",
    "        f1 = 1\n",
    "        fn = -1\n",
    "        for i in range(n-1):\n",
    "            fn = f0 + f1\n",
    "            self.fibo_dict[i+2] = fn\n",
    "            f0 = f1\n",
    "            f1 = fn\n",
    "        return self.fibo_dict\n",
    "\n",
    "\n",
    "    def f(self,x): \n",
    "        self.evalF += 1\n",
    "        self.fs[x] = 0.65 - 0.75/(1+x**2) - 0.65*x*atan(1/x) if x != 0\\\n",
    "        else 0.65 - 0.75/(1+x**2) # because I can't divide by zero\n",
    "        #print(fs[x])\n",
    "        return self.fs[x]\n",
    "\n",
    "\n",
    "    def get_f(self,x):\n",
    "        fs = self.fs\n",
    "        if x in fs.keys():\n",
    "            #print(x)\n",
    "            fx = fs[x]\n",
    "            #del fs[x]\n",
    "            return fx\n",
    "        else:\n",
    "            fs[x] = self.f(x)\n",
    "            return fs[x]\n",
    "\n",
    "    def minimo(self):\n",
    "        a,b,n = self.a, self.b, self.n\n",
    "        L = abs(b-a)\n",
    "        F = self.fibo_iter_dict(n)\n",
    "        k = 2\n",
    "\n",
    "        while k <= n:\n",
    "            Lks = F[n-k]/F[n]*L\n",
    "            x1 = a + Lks#round(a + Lks,10)\n",
    "            x2 = b - Lks#round(b - Lks,10)\n",
    "            if self.get_f(round(x1,10)) > self.get_f(round(x2,10)):\n",
    "                a = x1\n",
    "            else:\n",
    "                b = x2\n",
    "            k += 1\n",
    "\n",
    "        return '({},{})\\n{}'.format(\"%.3f\"%a,\"%.3f\"%b,self.evalF+1)"
   ]
  },
  {
   "cell_type": "code",
   "execution_count": 34,
   "metadata": {},
   "outputs": [
    {
     "name": "stdout",
     "output_type": "stream",
     "text": [
      "(0.480,0.481)\n",
      "18\n"
     ]
    }
   ],
   "source": [
    "print(Fibonacci_search(0,3,18).minimo())"
   ]
  },
  {
   "cell_type": "markdown",
   "metadata": {},
   "source": [
    "## Golden section search"
   ]
  },
  {
   "cell_type": "code",
   "execution_count": null,
   "metadata": {},
   "outputs": [],
   "source": []
  },
  {
   "cell_type": "markdown",
   "metadata": {},
   "source": [
    "# 2."
   ]
  },
  {
   "cell_type": "markdown",
   "metadata": {},
   "source": [
    "### Exhaustive search:"
   ]
  },
  {
   "cell_type": "markdown",
   "metadata": {},
   "source": [
    "$\\epsilon = \\frac{2(b-a)}{n}$"
   ]
  },
  {
   "cell_type": "markdown",
   "metadata": {},
   "source": [
    "$n = \\frac{2(b-a)}{\\epsilon}$"
   ]
  },
  {
   "cell_type": "code",
   "execution_count": 23,
   "metadata": {},
   "outputs": [
    {
     "data": {
      "text/plain": [
       "6000.0"
      ]
     },
     "execution_count": 23,
     "metadata": {},
     "output_type": "execute_result"
    }
   ],
   "source": [
    "2*(3-0)/0.001"
   ]
  },
  {
   "cell_type": "markdown",
   "metadata": {},
   "source": [
    "### Division of intervals by half"
   ]
  },
  {
   "cell_type": "markdown",
   "metadata": {},
   "source": [
    "$\\left(\\frac{1}{2}\\right)^\\frac{n}{2}L_0 = \\epsilon$"
   ]
  },
  {
   "cell_type": "markdown",
   "metadata": {},
   "source": [
    "$\\left(\\frac{1}{2}\\right)^\\frac{n}{2} = \\frac{\\epsilon}{L_0}$"
   ]
  },
  {
   "cell_type": "markdown",
   "metadata": {},
   "source": [
    "$\\log_\\frac{1}{2} \\left(\\left(\\frac{1}{2}\\right)^\\frac{n}{2}\\right) = \\log_\\frac{1}{2} \\left( \\frac{\\epsilon}{L_0}\\right)$"
   ]
  },
  {
   "cell_type": "markdown",
   "metadata": {},
   "source": [
    "$\\frac{n}{2} = \\log_\\frac{1}{2} \\left(\\frac{\\epsilon}{L_0}\\right)$"
   ]
  },
  {
   "cell_type": "markdown",
   "metadata": {},
   "source": [
    "$n = 2\\log_\\frac{1}{2} \\left(\\frac{\\epsilon}{L_0}\\right)$"
   ]
  },
  {
   "cell_type": "code",
   "execution_count": 25,
   "metadata": {},
   "outputs": [
    {
     "data": {
      "text/plain": [
       "23.101493570766486"
      ]
     },
     "execution_count": 25,
     "metadata": {},
     "output_type": "execute_result"
    }
   ],
   "source": [
    "2*log(0.001/3-0,1/2)"
   ]
  },
  {
   "cell_type": "markdown",
   "metadata": {},
   "source": [
    "23.1, es decir 24 y considerando que la primera iteración hace 1 evaluación extra(tengo que checar eso), ya se hacen 25 evaluaciones que son las que marca el algoritmo"
   ]
  },
  {
   "cell_type": "markdown",
   "metadata": {},
   "source": [
    "### Fibonacci search"
   ]
  },
  {
   "cell_type": "markdown",
   "metadata": {},
   "source": [
    "$\\frac{1}{F_n}L = \\epsilon$ "
   ]
  },
  {
   "cell_type": "markdown",
   "metadata": {},
   "source": [
    "$F_n = \\frac{L}{\\epsilon}$"
   ]
  },
  {
   "cell_type": "code",
   "execution_count": 33,
   "metadata": {},
   "outputs": [
    {
     "data": {
      "text/plain": [
       "3000.0"
      ]
     },
     "execution_count": 33,
     "metadata": {},
     "output_type": "execute_result"
    }
   ],
   "source": [
    "(3-0)/0.001"
   ]
  },
  {
   "cell_type": "code",
   "execution_count": 38,
   "metadata": {},
   "outputs": [
    {
     "data": {
      "text/plain": [
       "225591516161936330872512695036072072046011324913758190588638866418474627738686883405015987052796968498626"
      ]
     },
     "execution_count": 38,
     "metadata": {},
     "output_type": "execute_result"
    }
   ],
   "source": [
    "fibo_dict = fibo_iter_dict(500)\n",
    "fibo_dict[500]"
   ]
  },
  {
   "cell_type": "code",
   "execution_count": 41,
   "metadata": {},
   "outputs": [
    {
     "name": "stdout",
     "output_type": "stream",
     "text": [
      "18\n"
     ]
    }
   ],
   "source": [
    "n = 0\n",
    "while True:\n",
    "    if fibo_dict[n] >= 3000:\n",
    "        print(n)\n",
    "        break\n",
    "    n += 1"
   ]
  },
  {
   "cell_type": "markdown",
   "metadata": {},
   "source": [
    "# 3."
   ]
  },
  {
   "cell_type": "code",
   "execution_count": 17,
   "metadata": {},
   "outputs": [
    {
     "data": {
      "image/png": "[encoded data removed]",
      "text/plain": [
       "<Figure size 432x288 with 1 Axes>"
      ]
     },
     "metadata": {
      "needs_background": "light"
     },
     "output_type": "display_data"
    }
   ],
   "source": [
    "import matplotlib.pyplot as plt\n",
    "import numpy as np\n",
    "xs = np.arange(0,3,0.001)\n",
    "xlist = xs\n",
    "ylist = [f(i) for i in xs]\n",
    "plt.plot(xlist, ylist)\n",
    "plt.show()"
   ]
  },
  {
   "cell_type": "markdown",
   "metadata": {},
   "source": [
    "# 4."
   ]
  },
  {
   "cell_type": "code",
   "execution_count": 35,
   "metadata": {},
   "outputs": [
    {
     "name": "stdout",
     "output_type": "stream",
     "text": [
      "(0.481,0.482)\n",
      "963\n"
     ]
    }
   ],
   "source": [
    "print(Exhaustive_search(0,3,6000).minimo())"
   ]
  },
  {
   "cell_type": "code",
   "execution_count": 36,
   "metadata": {},
   "outputs": [
    {
     "name": "stdout",
     "output_type": "stream",
     "text": [
      "(0.480,0.481)\n",
      "25\n"
     ]
    }
   ],
   "source": [
    "print(Division_by_half(0,3,0.001).minimo())"
   ]
  },
  {
   "cell_type": "code",
   "execution_count": 37,
   "metadata": {},
   "outputs": [
    {
     "name": "stdout",
     "output_type": "stream",
     "text": [
      "(0.480,0.481)\n",
      "18\n"
     ]
    }
   ],
   "source": [
    "print(Fibonacci_search(0,3,18).minimo())"
   ]
  },
  {
   "cell_type": "code",
   "execution_count": null,
   "metadata": {},
   "outputs": [],
   "source": []
  }
 ],
 "metadata": {
  "kernelspec": {
   "display_name": "Python 3",
   "language": "python",
   "name": "python3"
  },
  "language_info": {
   "codemirror_mode": {
    "name": "ipython",
    "version": 3
   },
   "file_extension": ".py",
   "mimetype": "text/x-python",
   "name": "python",
   "nbconvert_exporter": "python",
   "pygments_lexer": "ipython3",
   "version": "3.7.9"
  }
 },
 "nbformat": 4,
 "nbformat_minor": 4
}
