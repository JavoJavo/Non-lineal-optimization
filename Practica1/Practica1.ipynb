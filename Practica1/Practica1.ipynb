{
 "cells": [
  {
   "cell_type": "code",
   "execution_count": 1,
   "metadata": {},
   "outputs": [],
   "source": [
    "from math import atan \n",
    "from math import log\n",
    "import matplotlib.pyplot as plt\n",
    "import numpy as np\n",
    "from tabulate import tabulate"
   ]
  },
  {
   "cell_type": "code",
   "execution_count": 2,
   "metadata": {},
   "outputs": [],
   "source": [
    "def f(x):\n",
    "    return 0.65 - 0.75/(1+x**2) - 0.65*x*atan(1/x) if x != 0\\\n",
    "    else float('inf') # because I can't divide by zero, so such f(x) doesn't exist / is not defined"
   ]
  },
  {
   "cell_type": "code",
   "execution_count": 3,
   "metadata": {},
   "outputs": [
    {
     "data": {
      "text/plain": [
       "(inf, -0.30982333328307937)"
      ]
     },
     "execution_count": 3,
     "metadata": {},
     "output_type": "execute_result"
    }
   ],
   "source": [
    "f(0),f(0.5)"
   ]
  },
  {
   "cell_type": "markdown",
   "metadata": {},
   "source": [
    "# 1.\n",
    "Minimizing with 4 different methods."
   ]
  },
  {
   "cell_type": "markdown",
   "metadata": {},
   "source": [
    "## Exhaustive search"
   ]
  },
  {
   "cell_type": "code",
   "execution_count": 45,
   "metadata": {},
   "outputs": [],
   "source": [
    "class Exhaustive_search:\n",
    "    def __init__(self,a,b,n):\n",
    "        self.a,self.b,self.n = a,b,n\n",
    "        self.evalF = 0\n",
    "        \n",
    "    def F(self,x):\n",
    "        self.evalF += 1\n",
    "        return 0.65 - 0.75/(1+x**2) - 0.65*x*atan(1/x) if x != 0\\\n",
    "        else float('inf') # because I can't divide by zero, so such f(x) doesn't exist / is not defined\n",
    "\n",
    "    def minimum(self):\n",
    "        a,b,n,F = self.a,self.b,self.n,self.F\n",
    "        if n == 0:\n",
    "            return ('({},{})\\n{}'.format(\"%.3f\"%a,\"%.3f\"%b,0))\n",
    "    \n",
    "        step = (b-a)/n\n",
    "        \n",
    "        if a == 0:\n",
    "            f2and3 = float('inf')\n",
    "        else:\n",
    "            f2and3 = F(a)\n",
    "            \n",
    "        x1,x2,x3 = 1,a,a\n",
    "        f1,f2,f3 = float('inf'), f2and3+1, f2and3\n",
    "        \n",
    "        while x3 <= b:\n",
    "            if f1 >= f2 <= f3 and f2 != float('inf'):\n",
    "                return ('({},{})\\n{}'.format(\"%.3f\"%x1,\"%.3f\"%x3,self.evalF))#x3-x1\n",
    "            x1 = x2\n",
    "            x2 = x3\n",
    "            x3 = x3 + step\n",
    "            if x3 == 0:\n",
    "                x1 = x3+step\n",
    "                x2 = x1+step\n",
    "                x3 = x2+step\n",
    "            f1 = f2\n",
    "            f2 = f3\n",
    "            f3 = F(x3)\n",
    "        return('NO SE ENCONTRÓ')\n"
   ]
  },
  {
   "cell_type": "code",
   "execution_count": 46,
   "metadata": {},
   "outputs": [
    {
     "name": "stdout",
     "output_type": "stream",
     "text": [
      "(0.481,0.482)\n",
      "963\n"
     ]
    }
   ],
   "source": [
    "print(Exhaustive_search(0,3,6000).minimum())"
   ]
  },
  {
   "cell_type": "markdown",
   "metadata": {
    "tags": []
   },
   "source": [
    "## Division of intervals by half"
   ]
  },
  {
   "cell_type": "code",
   "execution_count": 49,
   "metadata": {},
   "outputs": [],
   "source": [
    "class Division_by_half:\n",
    "    def __init__(self,a,b,epsilon):\n",
    "        self.a,self.b,self.epsilon = a,b,epsilon\n",
    "        self.evalF = 0\n",
    "        self.fs = {}\n",
    "    \n",
    "    def f(self,x):\n",
    "        self.evalF += 1\n",
    "        return 0.65 - 0.75/(1+x**2) - 0.65*x*atan(1/x) if x != 0\\\n",
    "        else float('inf') # because I can't divide by zero, so such f(x) doesn't exist / is not defined\n",
    "    \n",
    "    def getf(self,x):\n",
    "        fs,f = self.fs, self.f\n",
    "        if x in fs.keys():\n",
    "            return fs[x]\n",
    "        else:\n",
    "            fs[x] = f(x)\n",
    "            return fs[x]\n",
    "\n",
    "    \n",
    "\n",
    "    def minimum(self):\n",
    "        a,b,epsilon,getf = self.a,self.b,self.epsilon,self.getf\n",
    "        x_m = (a+b)/2\n",
    "        L = abs(b-a)\n",
    "        while L > epsilon:\n",
    "            x1 = a + L/4\n",
    "            x2 = b - L/4\n",
    "            fx1 = getf(x1)\n",
    "            fx2 = getf(x2)\n",
    "            fxm = getf(x_m)\n",
    "\n",
    "            if fx1 < fxm:\n",
    "                b = x_m\n",
    "                x_m = x1\n",
    "\n",
    "            elif fx2 < fxm:\n",
    "                a = x_m\n",
    "                x_m = x2\n",
    "\n",
    "            else:\n",
    "                a = x1\n",
    "                b = x2\n",
    "\n",
    "            L = abs(b-a)\n",
    "\n",
    "        return ('({},{})\\n{}'.format(\"%.3f\"%a,\"%.3f\"%b,self.evalF))\n"
   ]
  },
  {
   "cell_type": "code",
   "execution_count": 50,
   "metadata": {},
   "outputs": [
    {
     "name": "stdout",
     "output_type": "stream",
     "text": [
      "(0.480,0.481)\n",
      "25\n"
     ]
    }
   ],
   "source": [
    "print(Division_by_half(0,3,0.001).minimum())"
   ]
  },
  {
   "cell_type": "markdown",
   "metadata": {},
   "source": [
    "## Fibonacci search"
   ]
  },
  {
   "cell_type": "code",
   "execution_count": 51,
   "metadata": {
    "scrolled": true
   },
   "outputs": [],
   "source": [
    "class Fibonacci_search:\n",
    "    def __init__(self,a,b,n):\n",
    "        self.a,self.b,self.n = a,b,n\n",
    "        self.evalF = 0\n",
    "        self.fibo_dict = {}\n",
    "        self.fs = {}\n",
    "        \n",
    "    def fibo_iter_dict(self,n):\n",
    "        self.fibo_dict[0] = 1\n",
    "        self.fibo_dict[1] = 1\n",
    "        if n == 0 or n == 1:\n",
    "            return self.fibo_dict\n",
    "        f0 = 1\n",
    "        f1 = 1\n",
    "        fn = -1\n",
    "        for i in range(n-1):\n",
    "            fn = f0 + f1\n",
    "            self.fibo_dict[i+2] = fn\n",
    "            f0 = f1\n",
    "            f1 = fn\n",
    "        return self.fibo_dict\n",
    "\n",
    "\n",
    "    def f(self,x): \n",
    "        self.evalF += 1\n",
    "        self.fs[x] = 0.65 - 0.75/(1+x**2) - 0.65*x*atan(1/x) if x != 0\\\n",
    "        else float('inf') # because I can't divide by zero, so such f(x) doesn't exist / is not defined\n",
    "        #print(fs[x])\n",
    "        return self.fs[x]\n",
    "\n",
    "\n",
    "    def get_f(self,x):\n",
    "        fs = self.fs\n",
    "        if x in fs.keys():\n",
    "            #print(x)\n",
    "            fx = fs[x]\n",
    "            #del fs[x]\n",
    "            return fx\n",
    "        else:\n",
    "            fs[x] = self.f(x)\n",
    "            return fs[x]\n",
    "\n",
    "    def minimum(self):\n",
    "        a,b,n = self.a, self.b, self.n\n",
    "        L = abs(b-a)\n",
    "        F = self.fibo_iter_dict(n)\n",
    "        k = 2\n",
    "\n",
    "        while k <= n:\n",
    "            #print(1)\n",
    "            Lks = F[n-k]/F[n]*L\n",
    "            x1 = a + Lks#round(a + Lks,10)\n",
    "            x2 = b - Lks#round(b - Lks,10)\n",
    "            if self.get_f(round(x1,10)) > self.get_f(round(x2,10)):\n",
    "                a = x1\n",
    "            else:\n",
    "                b = x2\n",
    "            k += 1\n",
    "\n",
    "        return '({},{})\\n{}'.format(\"%.3f\"%a,\"%.3f\"%b,self.evalF)"
   ]
  },
  {
   "cell_type": "code",
   "execution_count": 52,
   "metadata": {},
   "outputs": [
    {
     "name": "stdout",
     "output_type": "stream",
     "text": [
      "(0.481,0.481)\n",
      "19\n"
     ]
    }
   ],
   "source": [
    "print(Fibonacci_search(0,3,20).minimum())"
   ]
  },
  {
   "cell_type": "markdown",
   "metadata": {},
   "source": [
    "## Golden section search"
   ]
  },
  {
   "cell_type": "code",
   "execution_count": 53,
   "metadata": {},
   "outputs": [],
   "source": [
    "class Golden_section_search:\n",
    "    def __init__(self,a,b,epsilon):\n",
    "        self.a,self.b,self.epsilon = a,b,epsilon\n",
    "        self.evalF = 0\n",
    "        self.fs = {}\n",
    "        \n",
    "    def f(self,x): \n",
    "        self.evalF += 1\n",
    "        self.fs[x] = 0.65 - 0.75/(1+x**2) - 0.65*x*atan(1/x) if x != 0\\\n",
    "        else float('inf') # because I can't divide by zero, so such f(x) doesn't exist / is not defined\n",
    "        #print(fs[x])\n",
    "        return self.fs[x]\n",
    "\n",
    "    def get_f(self,x):\n",
    "        fs = self.fs\n",
    "        if x in fs.keys():\n",
    "            #print(x)\n",
    "            fx = fs[x]\n",
    "            #del fs[x]\n",
    "            return fx\n",
    "        else:\n",
    "            fs[x] = self.f(x)\n",
    "            return fs[x]\n",
    "\n",
    "    def minimum(self):\n",
    "        a,b,epsilon = self.a, self.b, self.epsilon\n",
    "        w = 0\n",
    "        aw = 0\n",
    "        bw = 1\n",
    "        Lw = 1\n",
    "        #L = abs(b-a)\n",
    "        epsilon = epsilon/(b-a)\n",
    "        #print(self.evalF)\n",
    "        w1,w2 = 0,0\n",
    "        go_left, go_right = False, False\n",
    "        while Lw > epsilon:\n",
    "            #print(w1,w2)\n",
    "            if go_right:\n",
    "                w1 = aw + 0.618*Lw  # right x\n",
    "            elif go_left:\n",
    "                w2 = bw - 0.618*Lw  # left x\n",
    "            else:\n",
    "                w1 = aw + 0.618*Lw  # right x\n",
    "                w2 = bw - 0.618*Lw  # left x\n",
    "               \n",
    "            #w1 = w1*(b-a)+a\n",
    "            #w2 = w2*(b-a)+a\n",
    "            #print(w1*(b-a)+a,w2*(b-a)+a) \n",
    "            if self.get_f(w1*(b-a)+a) < self.get_f(w2*(b-a)+a):\n",
    "                #print(1,self.evalF)\n",
    "                aw = w2\n",
    "                go_right = True\n",
    "                go_left = False\n",
    "                w2 = w1\n",
    "            else:\n",
    "                #print(1,self.evalF)\n",
    "                bw = w1\n",
    "                go_right = False\n",
    "                go_left = True\n",
    "                w1 = w2\n",
    "            Lw = bw - aw\n",
    "            #print(aw,bw)\n",
    "            #print(Lw)\n",
    "        return '({},{})\\n{}'.format(\"%.3f\"%(aw*(b-a)+a),\"%.3f\"%(bw*(b-a)+a),self.evalF)"
   ]
  },
  {
   "cell_type": "code",
   "execution_count": 54,
   "metadata": {},
   "outputs": [
    {
     "name": "stdout",
     "output_type": "stream",
     "text": [
      "(0.480,0.481)\n",
      "18\n"
     ]
    }
   ],
   "source": [
    "print(Golden_section_search(0,3,0.001).minimum())"
   ]
  },
  {
   "cell_type": "markdown",
   "metadata": {},
   "source": [
    "# 2.\n",
    "Validating number of the objective function evaluation on each method."
   ]
  },
  {
   "cell_type": "markdown",
   "metadata": {},
   "source": [
    "### Exhaustive search:"
   ]
  },
  {
   "cell_type": "markdown",
   "metadata": {},
   "source": [
    "The length of the interval ($\\epsilon$) is equal to the folowing expression because the whole interval is divided by $n$ making $n$ tiny intervals, but the returned interval is the union of two of those."
   ]
  },
  {
   "cell_type": "markdown",
   "metadata": {},
   "source": [
    "$\\epsilon = \\frac{2(b-a)}{n}$"
   ]
  },
  {
   "cell_type": "markdown",
   "metadata": {},
   "source": [
    "One has to isolate $n$ in order to get the number of tiny intervals the whole interval needs to be divided in to return an interval of a specific precision."
   ]
  },
  {
   "cell_type": "markdown",
   "metadata": {},
   "source": [
    "$n = \\frac{2(b-a)}{\\epsilon}$"
   ]
  },
  {
   "cell_type": "markdown",
   "metadata": {},
   "source": [
    "$n$ is the number of needed tiny intervals, and the maximum number of evaluations of $n_{f(x)} = n+1$ because the first tiny interval needs two evaluations, but then you only need to evaluate one time because the start of the next tiny interval is the end of the current interval (hence you only need to evaluate the end of the next interval). "
   ]
  },
  {
   "cell_type": "code",
   "execution_count": 12,
   "metadata": {},
   "outputs": [
    {
     "data": {
      "text/plain": [
       "6001.0"
      ]
     },
     "execution_count": 12,
     "metadata": {},
     "output_type": "execute_result"
    }
   ],
   "source": [
    "(2*(3-0)/0.001) + 1"
   ]
  },
  {
   "cell_type": "markdown",
   "metadata": {},
   "source": [
    "### Division of intervals by half"
   ]
  },
  {
   "cell_type": "markdown",
   "metadata": {},
   "source": [
    "The length of the interval is equal to the following expression because every 2 evaluations the interval length is reduced by $\\frac{1}{2}$."
   ]
  },
  {
   "cell_type": "markdown",
   "metadata": {},
   "source": [
    "$\\left(\\frac{1}{2}\\right)^\\frac{n}{2}L_0 = \\epsilon$"
   ]
  },
  {
   "cell_type": "markdown",
   "metadata": {},
   "source": [
    "Isolating $n$:"
   ]
  },
  {
   "cell_type": "markdown",
   "metadata": {},
   "source": [
    "$\\left(\\frac{1}{2}\\right)^\\frac{n}{2} = \\frac{\\epsilon}{L_0}$"
   ]
  },
  {
   "cell_type": "markdown",
   "metadata": {},
   "source": [
    "$\\log_\\frac{1}{2} \\left(\\left(\\frac{1}{2}\\right)^\\frac{n}{2}\\right) = \\log_\\frac{1}{2} \\left( \\frac{\\epsilon}{L_0}\\right)$"
   ]
  },
  {
   "cell_type": "markdown",
   "metadata": {},
   "source": [
    "$\\frac{n}{2} = \\log_\\frac{1}{2} \\left(\\frac{\\epsilon}{L_0}\\right)$"
   ]
  },
  {
   "cell_type": "markdown",
   "metadata": {},
   "source": [
    "$n = 2\\log_\\frac{1}{2} \\left(\\frac{\\epsilon}{L_0}\\right)$"
   ]
  },
  {
   "cell_type": "code",
   "execution_count": 13,
   "metadata": {},
   "outputs": [
    {
     "data": {
      "text/plain": [
       "23.101493570766486"
      ]
     },
     "execution_count": 13,
     "metadata": {},
     "output_type": "execute_result"
    }
   ],
   "source": [
    "2*log(0.001/3-0,1/2)"
   ]
  },
  {
   "cell_type": "markdown",
   "metadata": {},
   "source": [
    "23.1, that means we need 24 for the precision wanted and considering that in the first iteration we evaluate the function 3 times instead of 2, that's **25** evaluations of the objective function."
   ]
  },
  {
   "cell_type": "markdown",
   "metadata": {},
   "source": [
    "### Fibonacci search"
   ]
  },
  {
   "cell_type": "markdown",
   "metadata": {},
   "source": [
    "The interval length is equal to the following expression because the last interval is the one been returned: $\\frac{F_{0}}{F_n} = \\frac{1}{F_n}$"
   ]
  },
  {
   "cell_type": "markdown",
   "metadata": {},
   "source": [
    "$\\frac{1}{F_n}L = \\epsilon$ "
   ]
  },
  {
   "cell_type": "markdown",
   "metadata": {},
   "source": [
    "Isolating $n$:"
   ]
  },
  {
   "cell_type": "markdown",
   "metadata": {},
   "source": [
    "$F_n = \\frac{L}{\\epsilon}$"
   ]
  },
  {
   "cell_type": "markdown",
   "metadata": {},
   "source": [
    "$n = n*$ where $n*$ is the minimum fibonacci number that is $>=$ to $F_n$"
   ]
  },
  {
   "cell_type": "code",
   "execution_count": 14,
   "metadata": {},
   "outputs": [
    {
     "data": {
      "text/plain": [
       "3000.0"
      ]
     },
     "execution_count": 14,
     "metadata": {},
     "output_type": "execute_result"
    }
   ],
   "source": [
    "(3-0)/0.001 # n"
   ]
  },
  {
   "cell_type": "code",
   "execution_count": 15,
   "metadata": {},
   "outputs": [
    {
     "data": {
      "text/plain": [
       "225591516161936330872512695036072072046011324913758190588638866418474627738686883405015987052796968498626"
      ]
     },
     "execution_count": 15,
     "metadata": {},
     "output_type": "execute_result"
    }
   ],
   "source": [
    "fibo_dict = Fibonacci_search(0,0,0).fibo_iter_dict(500)\n",
    "fibo_dict[500] # calculating the first 500 fibonacci numbers"
   ]
  },
  {
   "cell_type": "markdown",
   "metadata": {},
   "source": [
    "Figuring out $n*$:"
   ]
  },
  {
   "cell_type": "code",
   "execution_count": 16,
   "metadata": {},
   "outputs": [
    {
     "name": "stdout",
     "output_type": "stream",
     "text": [
      "18\n"
     ]
    }
   ],
   "source": [
    "n = 0\n",
    "while True:\n",
    "    if fibo_dict[n] >= 3000:\n",
    "        print(n)\n",
    "        break\n",
    "    n += 1"
   ]
  },
  {
   "cell_type": "markdown",
   "metadata": {},
   "source": [
    "### Golden section search"
   ]
  },
  {
   "cell_type": "markdown",
   "metadata": {},
   "source": [
    "The following expression is the interval length because every iteration the interval is reduced by $\\tau$ proportion"
   ]
  },
  {
   "cell_type": "markdown",
   "metadata": {},
   "source": [
    "$\\epsilon = \\tau^{n-1}*(b-a)$ "
   ]
  },
  {
   "cell_type": "markdown",
   "metadata": {},
   "source": [
    "Isolating $n$"
   ]
  },
  {
   "cell_type": "markdown",
   "metadata": {},
   "source": [
    "$\\frac{e}{b-a} = \\tau^{n-1}$"
   ]
  },
  {
   "cell_type": "markdown",
   "metadata": {},
   "source": [
    "$\\log_{\\tau} \\left(\\frac{e}{b-a}\\right) =\\log_{\\tau} \\tau^{n-1}$"
   ]
  },
  {
   "cell_type": "markdown",
   "metadata": {},
   "source": [
    "$\\log_{\\tau} \\left(\\frac{e}{b-a}\\right) = n-1$"
   ]
  },
  {
   "cell_type": "markdown",
   "metadata": {},
   "source": [
    "$\\log_{\\tau} \\left(\\frac{e}{b-a}\\right) + 1 = n$"
   ]
  },
  {
   "cell_type": "code",
   "execution_count": 17,
   "metadata": {
    "scrolled": true
   },
   "outputs": [
    {
     "data": {
      "text/plain": [
       "17.636026440155415"
      ]
     },
     "execution_count": 17,
     "metadata": {},
     "output_type": "execute_result"
    }
   ],
   "source": [
    "log(0.001/(3-0),0.618)+1"
   ]
  },
  {
   "cell_type": "markdown",
   "metadata": {},
   "source": [
    "Since one can not do 0.636 iterations, the total of iterations is 18."
   ]
  },
  {
   "cell_type": "markdown",
   "metadata": {},
   "source": [
    "# 3.\n",
    "Plotting f(x)."
   ]
  },
  {
   "cell_type": "code",
   "execution_count": 18,
   "metadata": {},
   "outputs": [
    {
     "data": {
      "image/png": "[encoded data removed]",
      "text/plain": [
       "<Figure size 432x288 with 1 Axes>"
      ]
     },
     "metadata": {
      "needs_background": "light"
     },
     "output_type": "display_data"
    }
   ],
   "source": [
    "xs = np.arange(0,3,0.001)\n",
    "xlist = xs\n",
    "ylist = [f(i) for i in xs]\n",
    "plt.plot(xlist, ylist)\n",
    "plt.show()"
   ]
  },
  {
   "cell_type": "markdown",
   "metadata": {},
   "source": [
    "# 4.\n",
    "Which method is the most efficient? Why?"
   ]
  },
  {
   "cell_type": "markdown",
   "metadata": {},
   "source": [
    "##### In this particular problem?"
   ]
  },
  {
   "cell_type": "code",
   "execution_count": 55,
   "metadata": {},
   "outputs": [
    {
     "name": "stdout",
     "output_type": "stream",
     "text": [
      "| SEARCH METHOD    | INTERVAL      |   ITERATIONS |\n",
      "|------------------|---------------|--------------|\n",
      "| Exhaustive       | (0.481,0.482) |          963 |\n",
      "| Division by half | (0.480,0.481) |           25 |\n",
      "| Fibonacci        | (0.480,0.481) |           17 |\n",
      "| Golden section   | (0.480,0.481) |           18 |\n"
     ]
    }
   ],
   "source": [
    "table = [('Exhaustive\\n'+str(Exhaustive_search(0,3,6000).minimum())).split('\\n'),\n",
    "        ('Division by half\\n'+str(Division_by_half(0,3,0.001).minimum())).split('\\n'),\n",
    "        ('Fibonacci\\n'+str(Fibonacci_search(0,3,18).minimum())).split('\\n'),\n",
    "        ('Golden section\\n'+str(Golden_section_search(0,3,0.001).minimum())).split('\\n')]\n",
    "headers = ['SEARCH METHOD','INTERVAL','ITERATIONS']\n",
    "print(tabulate(table,headers=headers,tablefmt=\"github\"))"
   ]
  },
  {
   "cell_type": "markdown",
   "metadata": {},
   "source": [
    "Even though Fibonacci search has the least amount of evaluations of its objective function, the Golden section search is better because the Fibonacci search has to calculate the fibonnacci sequence (until Fn) once at the beginning and the Golden section search doesn't. The Golden section search only uses the golden number."
   ]
  },
  {
   "cell_type": "markdown",
   "metadata": {},
   "source": [
    "##### In general?"
   ]
  },
  {
   "cell_type": "markdown",
   "metadata": {},
   "source": [
    "Calculating RF(n) for each method:"
   ]
  },
  {
   "cell_type": "markdown",
   "metadata": {},
   "source": [
    "$Ln_{\\textrm{exhaustive}} = \\frac{2(b-a)}{n}\\\\\n",
    "Ln_{\\textrm{division_half}} = \\left(\\frac{1}{2}\\right)^\\frac{n}{2}L_0\\\\\n",
    "Ln_{\\textrm{fibonacci}} = \\frac{1}{F_n}L\\\\ \n",
    "Ln_{\\textrm{golden_section}} =  \\tau^{n-1}*(b-a)$"
   ]
  },
  {
   "cell_type": "code",
   "execution_count": 20,
   "metadata": {},
   "outputs": [],
   "source": [
    "def Fn(n):\n",
    "    return Fibonacci_search(0,0,0).fibo_iter_dict(n)[n]\n",
    "   \n",
    "\n",
    "def Ln_exh(a,b,n):\n",
    "    return 2*(b-a)/n\n",
    "def Ln_div(a,b,n):\n",
    "    L0 = abs(b-a)\n",
    "    return (1/2)**(n/2)*L0\n",
    "def Ln_fib(a,b,n):\n",
    "    L = abs(b-a)\n",
    "    return (1/Fn(n))*L\n",
    "def Ln_gol(a,b,n):\n",
    "    return 0.618**(n-1)*(b-a)"
   ]
  },
  {
   "cell_type": "code",
   "execution_count": 56,
   "metadata": {},
   "outputs": [
    {
     "name": "stdout",
     "output_type": "stream",
     "text": [
      "RF(n):\n",
      "| SEARCH METHOD    |    n = 10 |      n = 20 |      n = 30 |      n = 40 |      n = 50 |\n",
      "|------------------|-----------|-------------|-------------|-------------|-------------|\n",
      "| Exhaustive       | 0.2       | 0.1         | 0.0666667   | 0.05        | 0.04        |\n",
      "| Division by half | 0.03125   | 0.000976562 | 3.05176e-05 | 9.53674e-07 | 2.98023e-08 |\n",
      "| Fibonacci        | 0.011236  | 9.13576e-05 | 7.42794e-07 | 6.03937e-09 | 4.91038e-11 |\n",
      "| Golden section   | 0.0131491 | 0.000106852 | 8.68292e-07 | 7.05587e-09 | 5.7337e-11  |\n"
     ]
    }
   ],
   "source": [
    "headers = ['SEARCH METHOD','n = 10','n = 20','n = 30','n = 40','n = 50']\n",
    "a,b = 0,3 \n",
    "ns = [10,20,30,40,50]\n",
    "L0 = 3-0\n",
    "table = [['Exhaustive']+[Ln_exh(a,b,n)/L0 for n in ns],\n",
    "         ['Division by half']+[Ln_div(a,b,n)/L0 for n in ns],\n",
    "         ['Fibonacci']+[Ln_fib(a,b,n)/L0 for n in ns],\n",
    "         ['Golden section']+[Ln_gol(a,b,n)/L0 for n in ns]]\n",
    "print('RF(n):')\n",
    "print(tabulate(table,headers=headers,tablefmt=\"github\"))"
   ]
  },
  {
   "cell_type": "markdown",
   "metadata": {},
   "source": [
    "The best performance just considering n and the size of the returned interval is Fibonacci search in every measured n, followed by Golden section search by a small margin . But we have to consider that in Fibonacci search we have to calculate Fibonnacci sequence too. For that reason I consider the Golden section search as the best overall."
   ]
  },
  {
   "cell_type": "markdown",
   "metadata": {},
   "source": [
    "The worst search method is by far Exhaustive search."
   ]
  }
 ],
 "metadata": {
  "kernelspec": {
   "display_name": "Python 3",
   "language": "python",
   "name": "python3"
  },
  "language_info": {
   "codemirror_mode": {
    "name": "ipython",
    "version": 3
   },
   "file_extension": ".py",
   "mimetype": "text/x-python",
   "name": "python",
   "nbconvert_exporter": "python",
   "pygments_lexer": "ipython3",
   "version": "3.7.10"
  }
 },
 "nbformat": 4,
 "nbformat_minor": 4
}
