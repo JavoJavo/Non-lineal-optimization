{
 "cells": [
  {
   "cell_type": "markdown",
   "metadata": {},
   "source": [
    "$max f(x) = \\frac{0.5}{\\sqrt{1+x^2}} - \\sqrt{1+x^2} \\left( 1 - \\frac{0.5}{1+x^2} \\right) + x$"
   ]
  },
  {
   "cell_type": "code",
   "execution_count": 1,
   "metadata": {},
   "outputs": [],
   "source": [
    "def f(x):\n",
    "    global evalF\n",
    "    evalF += 1\n",
    "    return (0.5/(1+x**2)**(1/2)) - (1+x**2)**(1/2) * (1- (0.5/(1+x**2))) + x"
   ]
  },
  {
   "cell_type": "markdown",
   "metadata": {},
   "source": [
    "# 1."
   ]
  },
  {
   "cell_type": "markdown",
   "metadata": {},
   "source": [
    "## (a) \n",
    "### Estimaciones cuadráticas"
   ]
  },
  {
   "cell_type": "code",
   "execution_count": 2,
   "metadata": {},
   "outputs": [
    {
     "name": "stdout",
     "output_type": "stream",
     "text": [
      "(0.786, 0.300)\n",
      "12\n"
     ]
    }
   ],
   "source": [
    "x1,Delta,eps = 0,0.1,0.0001 #input().split(',')   \n",
    "x1,Delta,eps = float(x1),float(Delta),float(eps)\n",
    "evalF = 0\n",
    "fs = {}\n",
    "\n",
    "def f(x):\n",
    "    global evalF\n",
    "    evalF += 1\n",
    "    return (0.5/(1+x**2)**(1/2)) - (1+x**2)**(1/2) * (1- (0.5/(1+x**2))) + x\n",
    "\n",
    "\n",
    "def get_f(x):\n",
    "    global fs\n",
    "    if x in fs.keys():\n",
    "        fx = fs[x]\n",
    "        return fx\n",
    "    else:\n",
    "        fs[x] = -f(x)\n",
    "        return fs[x]\n",
    "        \n",
    "def get_xb(x1,x2,x3,f1,f2,f3):\n",
    "    a0 = f1\n",
    "    a1 = (f2-f1)/(x2-x1)\n",
    "    a2 = (1/(x3-x2)) * \\\n",
    "         (((f3-f1)/(x3-x1)) - ((f2-f1)/(x2-x1)))\n",
    "    xb = (x1+x2)/2 - (a1/(2*a2))\n",
    "    return xb\n",
    "\n",
    "\n",
    "x2 = x1 + Delta\n",
    "x3 = None\n",
    "if get_f(x1) > get_f(x2):\n",
    "    x3 = x2 + Delta\n",
    "\n",
    "else:\n",
    "    x3 = x1 - Delta\n",
    "\n",
    "x1,x2,x3 = sorted([x1,x2,x3])\n",
    "f1,f2,f3 = get_f(x1),get_f(x2),get_f(x3)\n",
    "xb,fb = 0,0\n",
    "\n",
    "iters = 3\n",
    "while True:\n",
    "    xmin = x1\n",
    "    fmin = f1\n",
    "    \n",
    "    xb = get_xb(x1,x2,x3,f1,f2,f3)\n",
    "    \n",
    "    xs_fs = [[x1,f1],[x2,f2],[x3,f3],[xb,get_f(xb)]]\n",
    "    xs_fs = sorted(xs_fs, key=lambda x: x[1])\n",
    "    \n",
    "    x1,x2,x3 = xs_fs[0][0], xs_fs[1][0], xs_fs[2][0]\n",
    "    f1,f2,f3 = xs_fs[0][1], xs_fs[1][1], xs_fs[2][1]\n",
    "    \n",
    "    if abs(xmin - xb) < eps:\n",
    "        break\n",
    "    iters += 1\n",
    "print('({}, {})\\n{}'.format(\"%.3f\"%xb,\"%.3f\"%-get_f(xb),evalF))"
   ]
  },
  {
   "cell_type": "markdown",
   "metadata": {},
   "source": [
    "## (b)\n",
    "### Newton - Raphson"
   ]
  },
  {
   "cell_type": "markdown",
   "metadata": {},
   "source": [
    "##### Primera derivada"
   ]
  },
  {
   "cell_type": "markdown",
   "metadata": {},
   "source": [
    "$f(x) = \\frac{0.5}{\\sqrt{1+x^2}} - \\sqrt{1+x^2} \\left( 1 - \\frac{0.5}{1+x^2} \\right) + x$"
   ]
  },
  {
   "cell_type": "markdown",
   "metadata": {},
   "source": [
    "$\\frac{d}{dx} f(x) = \\frac{d}{dx} \\frac{0.5}{\\sqrt{1+x^2}} - \\frac{d}{dx} \\left[ \\sqrt{1+x^2} \\left( 1 - \\frac{0.5}{1+x^2} \\right) \\right] + \\frac{d}{dx} x$      \n",
    "\n",
    "$\\frac{d}{dx} f(x) = \\frac{d}{dx} \\frac{1}{2\\sqrt{1+x^2}} - \\frac{d}{dx} \\left[ \\sqrt{1+x^2} \\left( 1 - \\frac{1}{2(1+x^2)} \\right) \\right] + 1$      "
   ]
  },
  {
   "cell_type": "markdown",
   "metadata": {},
   "source": [
    "$$\\frac{d}{dx} \\frac{1}{2\\sqrt{1+x^2}} = \\frac{1}{2} \\frac{d}{dx} \\frac{1}{\\sqrt{1+x^2}}$$     \n",
    "$$ = \\frac{1}{2} \\frac{d}{dx} (1+x^2)^{-\\frac{1}{2}}$$   \n",
    "$$ = \\frac{1}{2} \\left(-\\frac{1}{2} (1+x^2)^{-\\frac{3}{2}} \\frac{d}{dx} (1+x^2) \\right)$$     \n",
    "$$ = \\frac{1}{2} \\left(-\\frac{2x}{2(1+x^2)^{\\frac{3}{2}}} \\right)$$     \n",
    "$$ = -\\frac{x}{2(1+x^2)^{\\frac{3}{2}}}$$ "
   ]
  },
  {
   "cell_type": "markdown",
   "metadata": {},
   "source": [
    "$\\frac{d}{dx} f(x) = -\\frac{x}{2(1+x^2)^{\\frac{3}{2}}}  - \\frac{d}{dx} \\left[ \\sqrt{1+x^2} \\left( 1 - \\frac{1}{2(1+x^2)} \\right) \\right] + 1$"
   ]
  },
  {
   "cell_type": "markdown",
   "metadata": {},
   "source": [
    "$$ \\frac{d}{dx} \\left[ \\sqrt{1+x^2} \\left( 1 - \\frac{1}{2(1+x^2)} \\right) \\right]$$       \n",
    "$$= \\frac{d}{dx} \\sqrt{1+x^2} \\left( 1-\\frac{1}{2(1+x^2)} \\right) + \\sqrt{1+x^2} \\frac{d}{dx}  \\left( 1-\\frac{1}{2(1+x^2)} \\right) $$    \n",
    "$$= \\frac{1}{2}(x^2+1)^{-\\frac{1}{2}} \\cdot \\frac{d}{dx} (1+x^2) \\left( 1-\\frac{1}{2(1+x^2)} \\right) + \\sqrt{1+x^2} \\left( 0 - \\frac{1}{2} \\cdot \\frac{d}{dx} \\frac{1}{1+x^2} \\right) $$    \n",
    "$$= \\frac{\\frac{d}{dx} (1+x^2) \\left( 1-\\frac{1}{2(1+x^2)} \\right)}{2\\sqrt{1+x^2}}   + \\frac{\\sqrt{1+x^2} \\cdot x}{(1+x^2)^2}  $$    \n",
    "$$= \\frac{2x \\left( 1-\\frac{1}{2(1+x^2)} \\right)}{2\\sqrt{1+x^2}}   +\\frac{x}{(1+x^2)^\\frac{3}{2}}  $$   \n",
    "\n",
    "$$= \\frac{x \\left( 1-\\frac{1}{2(1+x^2)} \\right)}{\\sqrt{1+x^2}}   +\\frac{x}{(1+x^2)^\\frac{3}{2}}  $$   "
   ]
  },
  {
   "cell_type": "markdown",
   "metadata": {},
   "source": [
    "$\\frac{d}{dx} f(x) = -\\frac{x}{2(1+x^2)^{\\frac{3}{2}}}  - \\frac{x \\left( 1-\\frac{1}{2(1+x^2)} \\right)}{\\sqrt{1+x^2}} - \\frac{x}{(1+x^2)^\\frac{3}{2}}  + 1$"
   ]
  },
  {
   "cell_type": "markdown",
   "metadata": {},
   "source": [
    "$\\frac{d}{dx} f(x) = -\\frac{x}{2(1+x^2)^{\\frac{3}{2}}}  - \\frac{x \\left( 1-\\frac{1}{2(1+x^2)} \\right)}{\\sqrt{1+x^2}} - \\frac{2x}{2(1+x^2)^\\frac{3}{2}}  + 1$"
   ]
  },
  {
   "cell_type": "markdown",
   "metadata": {},
   "source": [
    "$\\frac{d}{dx} f(x) = - \\frac{3x}{2(1+x^2)^{\\frac{3}{2}}}  - \\frac{x \\left( 1-\\frac{1}{2(1+x^2)} \\right)}{\\sqrt{1+x^2}} + 1$"
   ]
  },
  {
   "cell_type": "markdown",
   "metadata": {},
   "source": [
    "$$ \\frac{x \\left( 1-\\frac{1}{2(1+x^2)} \\right)}{\\sqrt{1+x^2}} = \\frac{x}{\\sqrt{1+x^2}} - \\frac{\\frac{x}{2(1+x^2)}}{\\sqrt{1+x^2}}$$    \n",
    "$$= \\frac{x}{\\sqrt{1+x^2}} -\\frac{x}{2(1+x^2)\\sqrt{1+x^2}}$$     \n",
    "$$= \\frac{x}{\\sqrt{1+x^2}} -\\frac{x}{2(1+x^2)^{\\frac{3}{2}}}$$     \n"
   ]
  },
  {
   "cell_type": "markdown",
   "metadata": {},
   "source": [
    "$\\frac{d}{dx} f(x) = - \\frac{3x}{2(1+x^2)^{\\frac{3}{2}}}  -  \\frac{x}{\\sqrt{1+x^2}} +\\frac{x}{2(1+x^2)^{\\frac{3}{2}}} + 1$     \n",
    "$\\frac{d}{dx} f(x) = - \\frac{2x}{2(1+x^2)^{\\frac{3}{2}}}  -  \\frac{x}{\\sqrt{1+x^2}} + 1$     \n",
    "$\\frac{d}{dx} f(x) = - \\frac{x}{(1+x^2)^{\\frac{3}{2}}}  -  \\frac{x}{\\sqrt{1+x^2}} + 1$     "
   ]
  },
  {
   "cell_type": "markdown",
   "metadata": {},
   "source": [
    "$$ \\frac{x}{\\sqrt{1+x^2}} = \\frac{(1+x^2)x}{(1+x^2)\\sqrt{1+x^2}}$$    \n",
    "$$ = \\frac{x+x^3}{(1+x^2)^{\\frac{3}{2}}} $$     "
   ]
  },
  {
   "cell_type": "markdown",
   "metadata": {},
   "source": [
    "$\\frac{d}{dx} f(x) = - \\frac{x}{(1+x^2)^{\\frac{3}{2}}}  -  \\frac{x+x^3}{(1+x^2)^{\\frac{3}{2}}} + 1$     "
   ]
  },
  {
   "cell_type": "markdown",
   "metadata": {},
   "source": [
    "$\\frac{d}{dx} f(x) = \\frac{-2x-x^3}{(1+x^2)^{\\frac{3}{2}}} + 1$     "
   ]
  },
  {
   "cell_type": "markdown",
   "metadata": {},
   "source": [
    "😃"
   ]
  },
  {
   "cell_type": "markdown",
   "metadata": {},
   "source": [
    "##### Segunda derivada"
   ]
  },
  {
   "cell_type": "markdown",
   "metadata": {},
   "source": [
    "$\\frac{d^2}{dx^2} f(x) = \\frac{-2x-x^3}{(1+x^2)^{\\frac{3}{2}}} + 1$"
   ]
  },
  {
   "cell_type": "markdown",
   "metadata": {},
   "source": [
    "$\\frac{d^2}{dx^2} f(x) = \\frac{d}{dx} \\frac{-2x-x^3}{(1+x^2)^{\\frac{3}{2}}} + \\frac{d}{dx} 1$     "
   ]
  },
  {
   "cell_type": "markdown",
   "metadata": {},
   "source": [
    "$\\frac{d^2}{dx^2} f(x) = \\frac{d}{dx} \\frac{-2x-x^3}{(1+x^2)^{\\frac{3}{2}}} $     "
   ]
  },
  {
   "cell_type": "markdown",
   "metadata": {},
   "source": [
    "$\\frac{d^2}{dx^2} f(x) = \\frac{\\frac{d}{dx}\\left[-2x-x^3\\right] \\cdot (1+x^2)^{\\frac{3}{2}} -\\, (-2x-x^3) \\cdot \\frac{d}{dx} \\left[1+x^2)^{\\frac{3}{2}}\\right]}{\\left((1+x^2)^{\\frac{3}{2}}\\right)^2} $     "
   ]
  },
  {
   "cell_type": "markdown",
   "metadata": {},
   "source": [
    "$\\frac{d^2}{dx^2} f(x) = \\frac{\\frac{d}{dx}\\left[-2x-x^3\\right] \\cdot (1+x^2)^{\\frac{3}{2}} -\\, (-2x-x^3) \\cdot \\frac{d}{dx} \\left[1+x^2)^{\\frac{3}{2}}\\right]}{(1+x^2)^{3}} $     "
   ]
  },
  {
   "cell_type": "markdown",
   "metadata": {},
   "source": [
    "$$\\frac{d}{dx}\\left[-2x-x^3\\right] \\cdot (1+x^2)^{\\frac{3}{2}}$$     \n",
    "$$ = (-2-3x^2) \\cdot (1+x^2)^{\\frac{3}{2}}$$     \n",
    "$$ = (-2-3x^2) \\cdot (1+x^2)^{\\frac{3}{2}}$$     "
   ]
  },
  {
   "cell_type": "markdown",
   "metadata": {},
   "source": [
    "$$(-2x-x^3) \\cdot \\frac{d}{dx} \\left[1+x^2)^{\\frac{3}{2}}\\right]$$     \n",
    "$$ = (-2x-x^3) \\cdot \\frac{3}{2} (1+x^2)^{\\frac{1}{2}}2x$$     \n",
    "$$ = (-2x-x^3) \\cdot 3x \\sqrt{1+x^2}$$     "
   ]
  },
  {
   "cell_type": "markdown",
   "metadata": {},
   "source": [
    "$\\frac{d^2}{dx^2}f(x) = \\frac{(-2-3x^2) \\cdot (1+x^2)^{\\frac{3}{2}} -\\, (-2x-x^3) \\cdot 3x \\sqrt{1+x^2}}{(1+x^2)^{3}} $     "
   ]
  },
  {
   "cell_type": "markdown",
   "metadata": {},
   "source": [
    "$\\frac{d^2}{dx^2} f(x) = \\frac{(-2-3x^2) \\cdot (1+x^2)^{\\frac{3}{2}}}{(1+x^2)^{3}} - \\frac{(-2x-x^3) \\cdot 3x \\sqrt{1+x^2}}{(1+x^2)^{3}} $     "
   ]
  },
  {
   "cell_type": "markdown",
   "metadata": {},
   "source": [
    "$$\\frac{(-2-3x^2) \\cdot (1+x^2)^{\\frac{3}{2}}}{(1+x^2)^{3}}$$     \n",
    "$$ = \\frac{-2-3x^2}{(1+x^2)^{\\frac{3}{2}}}$$      "
   ]
  },
  {
   "cell_type": "markdown",
   "metadata": {},
   "source": [
    "$\\frac{d^2}{dx^2} f(x) = \\frac{-2-3x^2}{(1+x^2)^{\\frac{3}{2}}} - \\frac{(-2x-x^3) \\cdot 3x \\sqrt{1+x^2}}{(1+x^2)^{3}} $     "
   ]
  },
  {
   "cell_type": "markdown",
   "metadata": {},
   "source": [
    "$$\\frac{(-2x-x^3) \\cdot 3x \\sqrt{1+x^2}}{(1+x^2)^{3}}$$      \n",
    "$$ = \\frac{(-2x-x^3) \\cdot 3x}{(1+x^2)^{\\frac{5}{2}}}$$      \n",
    "$$ = \\frac{-6x^2-3x^4}{(1+x^2)^{\\frac{5}{2}}}$$      "
   ]
  },
  {
   "cell_type": "markdown",
   "metadata": {},
   "source": [
    "$\\frac{d^2}{dx^2} f(x) = \\frac{-2-3x^2}{(1+x^2)^{\\frac{3}{2}}} - \\frac{-6x^2-3x^4}{(1+x^2)^{\\frac{5}{2}}} $     "
   ]
  },
  {
   "cell_type": "markdown",
   "metadata": {},
   "source": [
    "$\\frac{d^2}{dx^2} f(x) = \\frac{(1+x^2)-2-3x^2}{(1+x^2)(1+x^2)^{\\frac{3}{2}}} - \\frac{-6x^2-3x^4}{(1+x^2)^{\\frac{5}{2}}} $     "
   ]
  },
  {
   "cell_type": "markdown",
   "metadata": {},
   "source": [
    "$\\frac{d^2}{dx^2} f(x) = \\frac{-2-3x^2-2x^2-3x^4}{(1+x^2)^{\\frac{5}{2}}} - \\frac{-6x^2-3x^4}{(1+x^2)^{\\frac{5}{2}}} $     "
   ]
  },
  {
   "cell_type": "markdown",
   "metadata": {},
   "source": [
    "$\\frac{d^2}{dx^2} f(x) = \\frac{x^2-2}{(1+x^2)^{\\frac{5}{2}}}$     "
   ]
  },
  {
   "cell_type": "markdown",
   "metadata": {},
   "source": [
    "##### Algoritmo"
   ]
  },
  {
   "cell_type": "code",
   "execution_count": 3,
   "metadata": {},
   "outputs": [
    {
     "name": "stdout",
     "output_type": "stream",
     "text": [
      "(0.786,0.300)\n",
      "6\n"
     ]
    }
   ],
   "source": [
    "x0,eps = 0,0.0001 #input().split(',') \n",
    "x0,eps = float(x0),float(eps)\n",
    "evalF = 0\n",
    "\n",
    "def f(x):\n",
    "    return -((0.5/(1+x**2)**(1/2)) - (1+x**2)**(1/2) * (1- (0.5/(1+x**2))) + x)\n",
    "\n",
    "def fp(x):\n",
    "    global evalF\n",
    "    evalF += 1\n",
    "    return -(( (-2*x - x**3) / (1+x**2)**(3/2) ) + 1)\n",
    "\n",
    "def fpp(x):\n",
    "    return -(((x**2) - 2)/((x**2) + 1)**(5/2))\n",
    "\n",
    "k = 1\n",
    "xk = x0\n",
    "fpx = 0\n",
    "while True:\n",
    "    fpx = fp(xk)\n",
    "    xk = xk - fpx/fpp(xk)\n",
    "    k += 1\n",
    "    #print(xk)\n",
    "    if not abs(fpx) > eps:\n",
    "        break\n",
    "print('({},{})\\n{}'.format(\"%.3f\"%xk,\"%.3f\"%-f(xk),evalF))"
   ]
  },
  {
   "cell_type": "markdown",
   "metadata": {},
   "source": [
    "## (c)\n",
    "### Cuasi Newton"
   ]
  },
  {
   "cell_type": "code",
   "execution_count": 4,
   "metadata": {},
   "outputs": [
    {
     "name": "stdout",
     "output_type": "stream",
     "text": [
      "(0.786,0.300)\n",
      "18\n"
     ]
    }
   ],
   "source": [
    "x0,eps,delta = 0, 0.0001, 0.01 #input().split(',') \n",
    "x0,eps,delta = float(x0),float(eps),float(delta)\n",
    "evalF = 0\n",
    "fs = {}\n",
    "\n",
    "def get_f(x):\n",
    "    global fs\n",
    "    if x in fs.keys():\n",
    "        fx = fs[x]\n",
    "        return fx\n",
    "    else:\n",
    "        fs[x] = f(x)\n",
    "        return fs[x]\n",
    "\n",
    "def f(x):\n",
    "    global evalF\n",
    "    evalF += 1\n",
    "    return -((0.5/(1+x**2)**(1/2)) - (1+x**2)**(1/2) * (1- (0.5/(1+x**2))) + x)\n",
    "\n",
    "def fp(x):\n",
    "    global delta\n",
    "    return (get_f(x+delta)-get_f(x-delta))/(2*delta)\n",
    "\n",
    "def fpp(x):\n",
    "    global delta\n",
    "    return (get_f(x+delta) - 2*get_f(x) + get_f(x-delta)) / delta**2\n",
    "\n",
    "xk = x0\n",
    "fpx = 0\n",
    "while True:\n",
    "    fpx = fp(xk)\n",
    "    if not abs(fpx) > eps:\n",
    "        print('({:.3f},{:.3f})\\n{}'.format(xk,-get_f(xk),evalF))\n",
    "        break\n",
    "    xk = xk - fpx/fpp(xk)"
   ]
  },
  {
   "cell_type": "markdown",
   "metadata": {},
   "source": [
    "## (d)\n",
    "### Bisección"
   ]
  },
  {
   "cell_type": "code",
   "execution_count": 5,
   "metadata": {},
   "outputs": [
    {
     "name": "stdout",
     "output_type": "stream",
     "text": [
      "(0.786,0.300)\n",
      "12\n"
     ]
    }
   ],
   "source": [
    "a,b,eps = 0, 5, 0.0001 #input().split(',') \n",
    "a,b,eps = float(a),float(b),float(eps)\n",
    "evalF = 0\n",
    "fps = {}\n",
    "\n",
    "def get_fp(x):\n",
    "    global fps\n",
    "    if x in fps.keys():\n",
    "        fpx = fps[x]\n",
    "        return fpx\n",
    "    else:\n",
    "        fps[x] = fp(x)\n",
    "        return fps[x]\n",
    "\n",
    "def f(x):\n",
    "    return (0.5/(1+x**2)**(1/2)) - (1+x**2)**(1/2) * (1- (0.5/(1+x**2))) + x\n",
    "\n",
    "\n",
    "def fp(x):\n",
    "    global evalF\n",
    "    evalF += 1\n",
    "    return ( (-2*x - x**3) / (1+x**2)**(3/2) ) + 1\n",
    "\n",
    "z = 0\n",
    " \n",
    "while True:\n",
    "    z = (a+b)/2\n",
    "    fpz = -get_fp(z)\n",
    "    if fpz < 0:\n",
    "        a = z\n",
    "    else:\n",
    "        b = z\n",
    "        \n",
    "    if not -get_fp(a) <= 0 or not -get_fp(b) >= 0:\n",
    "        print ('Error')\n",
    "        break\n",
    "    if not abs(fpz) > eps:\n",
    "        print('({},{})\\n{}'.format(\"%.3f\"%z,\"%.3f\"%f(z),evalF+1))\n",
    "        break\n",
    "\n"
   ]
  },
  {
   "cell_type": "markdown",
   "metadata": {},
   "source": [
    "## (e)\n",
    "### Secante"
   ]
  },
  {
   "cell_type": "code",
   "execution_count": 6,
   "metadata": {},
   "outputs": [
    {
     "name": "stdout",
     "output_type": "stream",
     "text": [
      "(0.786,0.300)\n",
      "56\n"
     ]
    }
   ],
   "source": [
    "x_L,x_R,eps = 0,5,0.0001 #input().split(',') \n",
    "x_L,x_R,eps = float(x_L),float(x_R),float(eps)\n",
    "evalF = 0\n",
    "fps = {}\n",
    "\n",
    "def get_fp(x):\n",
    "    global fps\n",
    "    if x in fps.keys():\n",
    "        fpx = fps[x]\n",
    "        return fpx\n",
    "    else:\n",
    "        fps[x] = fp(x)\n",
    "        return fps[x]\n",
    "\n",
    "def f(x):\n",
    "    return (0.5/(1+x**2)**(1/2)) - (1+x**2)**(1/2) * (1- (0.5/(1+x**2))) + x\n",
    "\n",
    "def fp(x):\n",
    "    global evalF\n",
    "    evalF += 1\n",
    "    return ( (-2*x - x**3) / (1+x**2)**(3/2) ) + 1\n",
    "\n",
    " \n",
    "while True:\n",
    "    if not (get_fp(x_L)*get_fp(x_R)) < 0:\n",
    "        print('Error')\n",
    "        break\n",
    "    z = x_R - (-get_fp(x_R)*(x_R-x_L)) / (-(get_fp(x_R)-get_fp(x_L)))\n",
    "    fpz = -get_fp(z)\n",
    "    if fpz < 0:\n",
    "        x_L = z\n",
    "    else:\n",
    "        x_R = z\n",
    "    \n",
    "    if abs(fpz) <= eps:\n",
    "        print('({},{})\\n{}'.format(\"%.3f\"%z,\"%.3f\"%f(z),evalF))\n",
    "        break\n"
   ]
  },
  {
   "cell_type": "markdown",
   "metadata": {},
   "source": [
    "# 2."
   ]
  },
  {
   "cell_type": "code",
   "execution_count": 7,
   "metadata": {},
   "outputs": [],
   "source": [
    "import numpy as np\n",
    "import matplotlib.pyplot as plt"
   ]
  },
  {
   "cell_type": "code",
   "execution_count": 8,
   "metadata": {},
   "outputs": [
    {
     "data": {
      "image/png": "[encoded data removed]",
      "text/plain": [
       "<Figure size 432x288 with 1 Axes>"
      ]
     },
     "metadata": {
      "needs_background": "light"
     },
     "output_type": "display_data"
    }
   ],
   "source": [
    "xs = np.arange(0.786-1,0.786+1,0.001)\n",
    "xlist = xs\n",
    "ylist = [f(i) for i in xs]\n",
    "plt.plot(xlist, ylist)\n",
    "plt.show()"
   ]
  },
  {
   "cell_type": "markdown",
   "metadata": {},
   "source": [
    "# 3."
   ]
  },
  {
   "cell_type": "code",
   "execution_count": 9,
   "metadata": {},
   "outputs": [],
   "source": [
    "from math import e"
   ]
  },
  {
   "cell_type": "markdown",
   "metadata": {},
   "source": [
    "$min\\, g(x) = e^x - x^3$"
   ]
  },
  {
   "cell_type": "code",
   "execution_count": 10,
   "metadata": {},
   "outputs": [],
   "source": [
    "def g(x):\n",
    "    return e**x - (x**3)"
   ]
  },
  {
   "cell_type": "markdown",
   "metadata": {},
   "source": [
    "Grafiqué la función en desmos y el óptimo está entre los valores que grafiqué, sin embargo para que sea unimodal, en la optimización tuve que acotar el intervalo y quedó [1.5,6], y con una precisión de 0.0001."
   ]
  },
  {
   "cell_type": "code",
   "execution_count": 11,
   "metadata": {
    "scrolled": true
   },
   "outputs": [
    {
     "data": {
      "image/png": "[encoded data removed]",
      "text/plain": [
       "<Figure size 432x288 with 1 Axes>"
      ]
     },
     "metadata": {
      "needs_background": "light"
     },
     "output_type": "display_data"
    }
   ],
   "source": [
    "xs = np.arange(-1,6,0.001)\n",
    "xlist = xs\n",
    "ylist = [f(i) for i in xs]\n",
    "plt.plot(xlist, ylist)\n",
    "plt.show()"
   ]
  },
  {
   "cell_type": "markdown",
   "metadata": {},
   "source": [
    "### Secante"
   ]
  },
  {
   "cell_type": "code",
   "execution_count": 12,
   "metadata": {},
   "outputs": [
    {
     "name": "stdout",
     "output_type": "stream",
     "text": [
      "(3.733,-10.216)\n",
      "104\n"
     ]
    }
   ],
   "source": [
    "x_L,x_R,eps = 1.5,6,0.0001 #input().split(',') \n",
    "x_L,x_R,eps = float(x_L),float(x_R),float(eps)\n",
    "evalF = 0\n",
    "fps = {}\n",
    "\n",
    "def get_fp(x):\n",
    "    global fps\n",
    "    if x in fps.keys():\n",
    "        fpx = fps[x]\n",
    "        return fpx\n",
    "    else:\n",
    "        fps[x] = fp(x)\n",
    "        return fps[x]\n",
    "\n",
    "def f(x):\n",
    "    return e**x - (x**3)\n",
    "\n",
    "def fp(x):\n",
    "    global evalF\n",
    "    evalF += 1\n",
    "    return e**x - (3*(x**2))\n",
    " \n",
    "while True:\n",
    "    if not (get_fp(x_L)*get_fp(x_R)) < 0:\n",
    "        print('Error')\n",
    "        break\n",
    "    z = x_R - (get_fp(x_R)*(x_R-x_L)) / (get_fp(x_R)-get_fp(x_L))\n",
    "    fpz = get_fp(z)\n",
    "    if fpz < 0:\n",
    "        x_L = z\n",
    "    else:\n",
    "        x_R = z\n",
    "    \n",
    "    if abs(fpz) <= eps:\n",
    "        print('({},{})\\n{}'.format(\"%.3f\"%z,\"%.3f\"%f(z),evalF))\n",
    "        break\n"
   ]
  }
 ],
 "metadata": {
  "kernelspec": {
   "display_name": "Python 3",
   "language": "python",
   "name": "python3"
  },
  "language_info": {
   "codemirror_mode": {
    "name": "ipython",
    "version": 3
   },
   "file_extension": ".py",
   "mimetype": "text/x-python",
   "name": "python",
   "nbconvert_exporter": "python",
   "pygments_lexer": "ipython3",
   "version": "3.7.9"
  }
 },
 "nbformat": 4,
 "nbformat_minor": 4
}
